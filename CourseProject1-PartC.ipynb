{
 "cells": [
  {
   "cell_type": "markdown",
   "metadata": {},
   "source": [
    "# Course Project 1"
   ]
  },
  {
   "cell_type": "code",
   "execution_count": 1,
   "metadata": {
    "collapsed": true
   },
   "outputs": [],
   "source": [
    "import pandas as pd\n",
    "import numpy as np"
   ]
  },
  {
   "cell_type": "markdown",
   "metadata": {},
   "source": [
    "## A. Importing, cleaning and numerical summaries"
   ]
  },
  {
   "cell_type": "markdown",
   "metadata": {},
   "source": [
    "### 1. Download the data set data.csv"
   ]
  },
  {
   "cell_type": "markdown",
   "metadata": {},
   "source": [
    "### 2. Import the data as a pandas DataFrame"
   ]
  },
  {
   "cell_type": "code",
   "execution_count": 2,
   "metadata": {
    "collapsed": true
   },
   "outputs": [],
   "source": [
    "df=pd.read_csv('data.csv')"
   ]
  },
  {
   "cell_type": "markdown",
   "metadata": {},
   "source": [
    "### 3. Check the number of observations"
   ]
  },
  {
   "cell_type": "code",
   "execution_count": 3,
   "metadata": {},
   "outputs": [
    {
     "data": {
      "text/plain": [
       "153"
      ]
     },
     "execution_count": 3,
     "metadata": {},
     "output_type": "execute_result"
    }
   ],
   "source": [
    "df.shape[0]"
   ]
  },
  {
   "cell_type": "markdown",
   "metadata": {},
   "source": [
    "### 4. Obtain the column headings"
   ]
  },
  {
   "cell_type": "code",
   "execution_count": 4,
   "metadata": {},
   "outputs": [
    {
     "data": {
      "text/html": [
       "<div>\n",
       "<style>\n",
       "    .dataframe thead tr:only-child th {\n",
       "        text-align: right;\n",
       "    }\n",
       "\n",
       "    .dataframe thead th {\n",
       "        text-align: left;\n",
       "    }\n",
       "\n",
       "    .dataframe tbody tr th {\n",
       "        vertical-align: top;\n",
       "    }\n",
       "</style>\n",
       "<table border=\"1\" class=\"dataframe\">\n",
       "  <thead>\n",
       "    <tr style=\"text-align: right;\">\n",
       "      <th></th>\n",
       "      <th>Country</th>\n",
       "      <th>Happiness Rank</th>\n",
       "      <th>Happiness Score</th>\n",
       "      <th>Economy</th>\n",
       "      <th>Family</th>\n",
       "      <th>Health</th>\n",
       "      <th>Freedom</th>\n",
       "      <th>Generosity</th>\n",
       "      <th>Corruption</th>\n",
       "      <th>Dystopia</th>\n",
       "      <th>Job Satisfaction</th>\n",
       "      <th>Region</th>\n",
       "    </tr>\n",
       "  </thead>\n",
       "  <tbody>\n",
       "    <tr>\n",
       "      <th>0</th>\n",
       "      <td>Norway</td>\n",
       "      <td>1</td>\n",
       "      <td>7.537</td>\n",
       "      <td>1.616463</td>\n",
       "      <td>1.533524</td>\n",
       "      <td>0.796667</td>\n",
       "      <td>0.635423</td>\n",
       "      <td>0.362012</td>\n",
       "      <td>0.315964</td>\n",
       "      <td>2.277027</td>\n",
       "      <td>94.6</td>\n",
       "      <td>Western Europe</td>\n",
       "    </tr>\n",
       "    <tr>\n",
       "      <th>1</th>\n",
       "      <td>Denmark</td>\n",
       "      <td>2</td>\n",
       "      <td>7.522</td>\n",
       "      <td>1.482383</td>\n",
       "      <td>1.551122</td>\n",
       "      <td>0.792566</td>\n",
       "      <td>0.626007</td>\n",
       "      <td>0.355280</td>\n",
       "      <td>0.400770</td>\n",
       "      <td>2.313707</td>\n",
       "      <td>93.5</td>\n",
       "      <td>Western Europe</td>\n",
       "    </tr>\n",
       "    <tr>\n",
       "      <th>2</th>\n",
       "      <td>Iceland</td>\n",
       "      <td>3</td>\n",
       "      <td>7.504</td>\n",
       "      <td>1.480633</td>\n",
       "      <td>1.610574</td>\n",
       "      <td>0.833552</td>\n",
       "      <td>0.627163</td>\n",
       "      <td>0.475540</td>\n",
       "      <td>0.153527</td>\n",
       "      <td>2.322715</td>\n",
       "      <td>94.5</td>\n",
       "      <td>Western Europe</td>\n",
       "    </tr>\n",
       "    <tr>\n",
       "      <th>3</th>\n",
       "      <td>Switzerland</td>\n",
       "      <td>4</td>\n",
       "      <td>7.494</td>\n",
       "      <td>1.564980</td>\n",
       "      <td>1.516912</td>\n",
       "      <td>0.858131</td>\n",
       "      <td>0.620071</td>\n",
       "      <td>0.290549</td>\n",
       "      <td>0.367007</td>\n",
       "      <td>2.276716</td>\n",
       "      <td>93.7</td>\n",
       "      <td>Western Europe</td>\n",
       "    </tr>\n",
       "    <tr>\n",
       "      <th>4</th>\n",
       "      <td>Finland</td>\n",
       "      <td>5</td>\n",
       "      <td>7.469</td>\n",
       "      <td>1.443572</td>\n",
       "      <td>1.540247</td>\n",
       "      <td>0.809158</td>\n",
       "      <td>0.617951</td>\n",
       "      <td>0.245483</td>\n",
       "      <td>0.382612</td>\n",
       "      <td>2.430182</td>\n",
       "      <td>91.2</td>\n",
       "      <td>Western Europe</td>\n",
       "    </tr>\n",
       "  </tbody>\n",
       "</table>\n",
       "</div>"
      ],
      "text/plain": [
       "       Country  Happiness Rank  Happiness Score   Economy    Family    Health  \\\n",
       "0       Norway               1            7.537  1.616463  1.533524  0.796667   \n",
       "1      Denmark               2            7.522  1.482383  1.551122  0.792566   \n",
       "2      Iceland               3            7.504  1.480633  1.610574  0.833552   \n",
       "3  Switzerland               4            7.494  1.564980  1.516912  0.858131   \n",
       "4      Finland               5            7.469  1.443572  1.540247  0.809158   \n",
       "\n",
       "    Freedom  Generosity  Corruption  Dystopia  Job Satisfaction  \\\n",
       "0  0.635423    0.362012    0.315964  2.277027              94.6   \n",
       "1  0.626007    0.355280    0.400770  2.313707              93.5   \n",
       "2  0.627163    0.475540    0.153527  2.322715              94.5   \n",
       "3  0.620071    0.290549    0.367007  2.276716              93.7   \n",
       "4  0.617951    0.245483    0.382612  2.430182              91.2   \n",
       "\n",
       "           Region  \n",
       "0  Western Europe  \n",
       "1  Western Europe  \n",
       "2  Western Europe  \n",
       "3  Western Europe  \n",
       "4  Western Europe  "
      ]
     },
     "execution_count": 4,
     "metadata": {},
     "output_type": "execute_result"
    }
   ],
   "source": [
    "df.head()"
   ]
  },
  {
   "cell_type": "markdown",
   "metadata": {},
   "source": [
    "### 5. Check the data type for each column"
   ]
  },
  {
   "cell_type": "code",
   "execution_count": 5,
   "metadata": {},
   "outputs": [
    {
     "data": {
      "text/plain": [
       "Country              object\n",
       "Happiness Rank        int64\n",
       "Happiness Score     float64\n",
       "Economy             float64\n",
       "Family              float64\n",
       "Health              float64\n",
       "Freedom             float64\n",
       "Generosity          float64\n",
       "Corruption          float64\n",
       "Dystopia            float64\n",
       "Job Satisfaction    float64\n",
       "Region               object\n",
       "dtype: object"
      ]
     },
     "execution_count": 5,
     "metadata": {},
     "output_type": "execute_result"
    }
   ],
   "source": [
    "df.dtypes"
   ]
  },
  {
   "cell_type": "markdown",
   "metadata": {},
   "source": [
    "### 6. Check if there are any missing values"
   ]
  },
  {
   "cell_type": "code",
   "execution_count": 6,
   "metadata": {},
   "outputs": [
    {
     "data": {
      "text/plain": [
       "Country             0\n",
       "Happiness Rank      0\n",
       "Happiness Score     0\n",
       "Economy             0\n",
       "Family              0\n",
       "Health              0\n",
       "Freedom             0\n",
       "Generosity          0\n",
       "Corruption          0\n",
       "Dystopia            0\n",
       "Job Satisfaction    2\n",
       "Region              0\n",
       "dtype: int64"
      ]
     },
     "execution_count": 6,
     "metadata": {},
     "output_type": "execute_result"
    }
   ],
   "source": [
    "df.isnull().sum()"
   ]
  },
  {
   "cell_type": "markdown",
   "metadata": {},
   "source": [
    "### 7. If necessary remove any observations to ensure that there are no missing values and the values in each column are of the same data type"
   ]
  },
  {
   "cell_type": "code",
   "execution_count": 7,
   "metadata": {},
   "outputs": [
    {
     "data": {
      "text/html": [
       "<div>\n",
       "<style>\n",
       "    .dataframe thead tr:only-child th {\n",
       "        text-align: right;\n",
       "    }\n",
       "\n",
       "    .dataframe thead th {\n",
       "        text-align: left;\n",
       "    }\n",
       "\n",
       "    .dataframe tbody tr th {\n",
       "        vertical-align: top;\n",
       "    }\n",
       "</style>\n",
       "<table border=\"1\" class=\"dataframe\">\n",
       "  <thead>\n",
       "    <tr style=\"text-align: right;\">\n",
       "      <th></th>\n",
       "      <th>Country</th>\n",
       "      <th>Happiness Rank</th>\n",
       "      <th>Happiness Score</th>\n",
       "      <th>Economy</th>\n",
       "      <th>Family</th>\n",
       "      <th>Health</th>\n",
       "      <th>Freedom</th>\n",
       "      <th>Generosity</th>\n",
       "      <th>Corruption</th>\n",
       "      <th>Dystopia</th>\n",
       "      <th>Job Satisfaction</th>\n",
       "      <th>Region</th>\n",
       "    </tr>\n",
       "  </thead>\n",
       "  <tbody>\n",
       "    <tr>\n",
       "      <th>59</th>\n",
       "      <td>North Cyprus</td>\n",
       "      <td>61</td>\n",
       "      <td>5.810</td>\n",
       "      <td>1.346911</td>\n",
       "      <td>1.186303</td>\n",
       "      <td>0.834647</td>\n",
       "      <td>0.471204</td>\n",
       "      <td>0.266846</td>\n",
       "      <td>0.155353</td>\n",
       "      <td>1.549158</td>\n",
       "      <td>NaN</td>\n",
       "      <td>Eastern Europe</td>\n",
       "    </tr>\n",
       "    <tr>\n",
       "      <th>144</th>\n",
       "      <td>South Sudan</td>\n",
       "      <td>147</td>\n",
       "      <td>3.591</td>\n",
       "      <td>0.397249</td>\n",
       "      <td>0.601323</td>\n",
       "      <td>0.163486</td>\n",
       "      <td>0.147062</td>\n",
       "      <td>0.285671</td>\n",
       "      <td>0.116794</td>\n",
       "      <td>1.879567</td>\n",
       "      <td>NaN</td>\n",
       "      <td>Africa</td>\n",
       "    </tr>\n",
       "  </tbody>\n",
       "</table>\n",
       "</div>"
      ],
      "text/plain": [
       "          Country  Happiness Rank  Happiness Score   Economy    Family  \\\n",
       "59   North Cyprus              61            5.810  1.346911  1.186303   \n",
       "144   South Sudan             147            3.591  0.397249  0.601323   \n",
       "\n",
       "       Health   Freedom  Generosity  Corruption  Dystopia  Job Satisfaction  \\\n",
       "59   0.834647  0.471204    0.266846    0.155353  1.549158               NaN   \n",
       "144  0.163486  0.147062    0.285671    0.116794  1.879567               NaN   \n",
       "\n",
       "             Region  \n",
       "59   Eastern Europe  \n",
       "144          Africa  "
      ]
     },
     "execution_count": 7,
     "metadata": {},
     "output_type": "execute_result"
    }
   ],
   "source": [
    "df[df['Job Satisfaction'].isnull()]"
   ]
  },
  {
   "cell_type": "code",
   "execution_count": 8,
   "metadata": {
    "collapsed": true
   },
   "outputs": [],
   "source": [
    "df.dropna(inplace=True)"
   ]
  },
  {
   "cell_type": "code",
   "execution_count": 9,
   "metadata": {},
   "outputs": [
    {
     "name": "stdout",
     "output_type": "stream",
     "text": [
      "<class 'pandas.core.frame.DataFrame'>\n",
      "Int64Index: 151 entries, 0 to 152\n",
      "Data columns (total 12 columns):\n",
      "Country             151 non-null object\n",
      "Happiness Rank      151 non-null int64\n",
      "Happiness Score     151 non-null float64\n",
      "Economy             151 non-null float64\n",
      "Family              151 non-null float64\n",
      "Health              151 non-null float64\n",
      "Freedom             151 non-null float64\n",
      "Generosity          151 non-null float64\n",
      "Corruption          151 non-null float64\n",
      "Dystopia            151 non-null float64\n",
      "Job Satisfaction    151 non-null float64\n",
      "Region              151 non-null object\n",
      "dtypes: float64(9), int64(1), object(2)\n",
      "memory usage: 15.3+ KB\n"
     ]
    }
   ],
   "source": [
    "df.info()"
   ]
  },
  {
   "cell_type": "markdown",
   "metadata": {},
   "source": [
    "### 8. Obtain the mean, minimum and maximum value for each column containing numerical data."
   ]
  },
  {
   "cell_type": "code",
   "execution_count": 10,
   "metadata": {},
   "outputs": [
    {
     "data": {
      "text/plain": [
       "Happiness Rank      77.827815\n",
       "Happiness Score      5.357874\n",
       "Economy              0.983895\n",
       "Family               1.190509\n",
       "Health               0.550794\n",
       "Freedom              0.409805\n",
       "Generosity           0.244914\n",
       "Corruption           0.123008\n",
       "Dystopia             1.854910\n",
       "Job Satisfaction    75.209934\n",
       "dtype: float64"
      ]
     },
     "execution_count": 10,
     "metadata": {},
     "output_type": "execute_result"
    }
   ],
   "source": [
    "df.mean()"
   ]
  },
  {
   "cell_type": "code",
   "execution_count": 11,
   "metadata": {},
   "outputs": [
    {
     "data": {
      "text/plain": [
       "Happiness Rank       1.000000\n",
       "Happiness Score      2.693000\n",
       "Economy              0.000000\n",
       "Family               0.000000\n",
       "Health               0.000000\n",
       "Freedom              0.000000\n",
       "Generosity           0.000000\n",
       "Corruption           0.000000\n",
       "Dystopia             0.377914\n",
       "Job Satisfaction    44.400000\n",
       "dtype: float64"
      ]
     },
     "execution_count": 11,
     "metadata": {},
     "output_type": "execute_result"
    }
   ],
   "source": [
    "df.min(numeric_only=True)"
   ]
  },
  {
   "cell_type": "code",
   "execution_count": 12,
   "metadata": {},
   "outputs": [
    {
     "data": {
      "text/plain": [
       "Happiness Rank      155.000000\n",
       "Happiness Score       7.537000\n",
       "Economy               1.870766\n",
       "Family                1.610574\n",
       "Health                0.949492\n",
       "Freedom               0.658249\n",
       "Generosity            0.838075\n",
       "Corruption            0.464308\n",
       "Dystopia              3.117485\n",
       "Job Satisfaction     95.100000\n",
       "dtype: float64"
      ]
     },
     "execution_count": 12,
     "metadata": {},
     "output_type": "execute_result"
    }
   ],
   "source": [
    "df.max(numeric_only=True)"
   ]
  },
  {
   "cell_type": "markdown",
   "metadata": {},
   "source": [
    "### 9. List the 10 happiest countries."
   ]
  },
  {
   "cell_type": "code",
   "execution_count": 13,
   "metadata": {},
   "outputs": [
    {
     "data": {
      "text/html": [
       "<div>\n",
       "<style>\n",
       "    .dataframe thead tr:only-child th {\n",
       "        text-align: right;\n",
       "    }\n",
       "\n",
       "    .dataframe thead th {\n",
       "        text-align: left;\n",
       "    }\n",
       "\n",
       "    .dataframe tbody tr th {\n",
       "        vertical-align: top;\n",
       "    }\n",
       "</style>\n",
       "<table border=\"1\" class=\"dataframe\">\n",
       "  <thead>\n",
       "    <tr style=\"text-align: right;\">\n",
       "      <th></th>\n",
       "      <th>Country</th>\n",
       "      <th>Happiness Rank</th>\n",
       "      <th>Happiness Score</th>\n",
       "      <th>Economy</th>\n",
       "      <th>Family</th>\n",
       "      <th>Health</th>\n",
       "      <th>Freedom</th>\n",
       "      <th>Generosity</th>\n",
       "      <th>Corruption</th>\n",
       "      <th>Dystopia</th>\n",
       "      <th>Job Satisfaction</th>\n",
       "      <th>Region</th>\n",
       "    </tr>\n",
       "  </thead>\n",
       "  <tbody>\n",
       "    <tr>\n",
       "      <th>0</th>\n",
       "      <td>Norway</td>\n",
       "      <td>1</td>\n",
       "      <td>7.537</td>\n",
       "      <td>1.616463</td>\n",
       "      <td>1.533524</td>\n",
       "      <td>0.796667</td>\n",
       "      <td>0.635423</td>\n",
       "      <td>0.362012</td>\n",
       "      <td>0.315964</td>\n",
       "      <td>2.277027</td>\n",
       "      <td>94.6</td>\n",
       "      <td>Western Europe</td>\n",
       "    </tr>\n",
       "    <tr>\n",
       "      <th>1</th>\n",
       "      <td>Denmark</td>\n",
       "      <td>2</td>\n",
       "      <td>7.522</td>\n",
       "      <td>1.482383</td>\n",
       "      <td>1.551122</td>\n",
       "      <td>0.792566</td>\n",
       "      <td>0.626007</td>\n",
       "      <td>0.355280</td>\n",
       "      <td>0.400770</td>\n",
       "      <td>2.313707</td>\n",
       "      <td>93.5</td>\n",
       "      <td>Western Europe</td>\n",
       "    </tr>\n",
       "    <tr>\n",
       "      <th>2</th>\n",
       "      <td>Iceland</td>\n",
       "      <td>3</td>\n",
       "      <td>7.504</td>\n",
       "      <td>1.480633</td>\n",
       "      <td>1.610574</td>\n",
       "      <td>0.833552</td>\n",
       "      <td>0.627163</td>\n",
       "      <td>0.475540</td>\n",
       "      <td>0.153527</td>\n",
       "      <td>2.322715</td>\n",
       "      <td>94.5</td>\n",
       "      <td>Western Europe</td>\n",
       "    </tr>\n",
       "    <tr>\n",
       "      <th>3</th>\n",
       "      <td>Switzerland</td>\n",
       "      <td>4</td>\n",
       "      <td>7.494</td>\n",
       "      <td>1.564980</td>\n",
       "      <td>1.516912</td>\n",
       "      <td>0.858131</td>\n",
       "      <td>0.620071</td>\n",
       "      <td>0.290549</td>\n",
       "      <td>0.367007</td>\n",
       "      <td>2.276716</td>\n",
       "      <td>93.7</td>\n",
       "      <td>Western Europe</td>\n",
       "    </tr>\n",
       "    <tr>\n",
       "      <th>4</th>\n",
       "      <td>Finland</td>\n",
       "      <td>5</td>\n",
       "      <td>7.469</td>\n",
       "      <td>1.443572</td>\n",
       "      <td>1.540247</td>\n",
       "      <td>0.809158</td>\n",
       "      <td>0.617951</td>\n",
       "      <td>0.245483</td>\n",
       "      <td>0.382612</td>\n",
       "      <td>2.430182</td>\n",
       "      <td>91.2</td>\n",
       "      <td>Western Europe</td>\n",
       "    </tr>\n",
       "    <tr>\n",
       "      <th>5</th>\n",
       "      <td>Netherlands</td>\n",
       "      <td>6</td>\n",
       "      <td>7.377</td>\n",
       "      <td>1.503945</td>\n",
       "      <td>1.428939</td>\n",
       "      <td>0.810696</td>\n",
       "      <td>0.585384</td>\n",
       "      <td>0.470490</td>\n",
       "      <td>0.282662</td>\n",
       "      <td>2.294804</td>\n",
       "      <td>93.8</td>\n",
       "      <td>Western Europe</td>\n",
       "    </tr>\n",
       "    <tr>\n",
       "      <th>6</th>\n",
       "      <td>Canada</td>\n",
       "      <td>7</td>\n",
       "      <td>7.316</td>\n",
       "      <td>1.479204</td>\n",
       "      <td>1.481349</td>\n",
       "      <td>0.834558</td>\n",
       "      <td>0.611101</td>\n",
       "      <td>0.435540</td>\n",
       "      <td>0.287372</td>\n",
       "      <td>2.187264</td>\n",
       "      <td>90.5</td>\n",
       "      <td>North America</td>\n",
       "    </tr>\n",
       "    <tr>\n",
       "      <th>7</th>\n",
       "      <td>New Zealand</td>\n",
       "      <td>8</td>\n",
       "      <td>7.314</td>\n",
       "      <td>1.405706</td>\n",
       "      <td>1.548195</td>\n",
       "      <td>0.816760</td>\n",
       "      <td>0.614062</td>\n",
       "      <td>0.500005</td>\n",
       "      <td>0.382817</td>\n",
       "      <td>2.046456</td>\n",
       "      <td>88.6</td>\n",
       "      <td>Asia-Pacific</td>\n",
       "    </tr>\n",
       "    <tr>\n",
       "      <th>8</th>\n",
       "      <td>Sweden</td>\n",
       "      <td>9</td>\n",
       "      <td>7.284</td>\n",
       "      <td>1.494387</td>\n",
       "      <td>1.478162</td>\n",
       "      <td>0.830875</td>\n",
       "      <td>0.612924</td>\n",
       "      <td>0.385399</td>\n",
       "      <td>0.384399</td>\n",
       "      <td>2.097538</td>\n",
       "      <td>92.7</td>\n",
       "      <td>Western Europe</td>\n",
       "    </tr>\n",
       "    <tr>\n",
       "      <th>9</th>\n",
       "      <td>Australia</td>\n",
       "      <td>10</td>\n",
       "      <td>7.284</td>\n",
       "      <td>1.484415</td>\n",
       "      <td>1.510042</td>\n",
       "      <td>0.843887</td>\n",
       "      <td>0.601607</td>\n",
       "      <td>0.477699</td>\n",
       "      <td>0.301184</td>\n",
       "      <td>2.065211</td>\n",
       "      <td>89.2</td>\n",
       "      <td>Asia-Pacific</td>\n",
       "    </tr>\n",
       "  </tbody>\n",
       "</table>\n",
       "</div>"
      ],
      "text/plain": [
       "       Country  Happiness Rank  Happiness Score   Economy    Family    Health  \\\n",
       "0       Norway               1            7.537  1.616463  1.533524  0.796667   \n",
       "1      Denmark               2            7.522  1.482383  1.551122  0.792566   \n",
       "2      Iceland               3            7.504  1.480633  1.610574  0.833552   \n",
       "3  Switzerland               4            7.494  1.564980  1.516912  0.858131   \n",
       "4      Finland               5            7.469  1.443572  1.540247  0.809158   \n",
       "5  Netherlands               6            7.377  1.503945  1.428939  0.810696   \n",
       "6       Canada               7            7.316  1.479204  1.481349  0.834558   \n",
       "7  New Zealand               8            7.314  1.405706  1.548195  0.816760   \n",
       "8       Sweden               9            7.284  1.494387  1.478162  0.830875   \n",
       "9    Australia              10            7.284  1.484415  1.510042  0.843887   \n",
       "\n",
       "    Freedom  Generosity  Corruption  Dystopia  Job Satisfaction  \\\n",
       "0  0.635423    0.362012    0.315964  2.277027              94.6   \n",
       "1  0.626007    0.355280    0.400770  2.313707              93.5   \n",
       "2  0.627163    0.475540    0.153527  2.322715              94.5   \n",
       "3  0.620071    0.290549    0.367007  2.276716              93.7   \n",
       "4  0.617951    0.245483    0.382612  2.430182              91.2   \n",
       "5  0.585384    0.470490    0.282662  2.294804              93.8   \n",
       "6  0.611101    0.435540    0.287372  2.187264              90.5   \n",
       "7  0.614062    0.500005    0.382817  2.046456              88.6   \n",
       "8  0.612924    0.385399    0.384399  2.097538              92.7   \n",
       "9  0.601607    0.477699    0.301184  2.065211              89.2   \n",
       "\n",
       "           Region  \n",
       "0  Western Europe  \n",
       "1  Western Europe  \n",
       "2  Western Europe  \n",
       "3  Western Europe  \n",
       "4  Western Europe  \n",
       "5  Western Europe  \n",
       "6   North America  \n",
       "7    Asia-Pacific  \n",
       "8  Western Europe  \n",
       "9    Asia-Pacific  "
      ]
     },
     "execution_count": 13,
     "metadata": {},
     "output_type": "execute_result"
    }
   ],
   "source": [
    "df.sort_values('Happiness Rank')\n",
    "df.head(10)"
   ]
  },
  {
   "cell_type": "markdown",
   "metadata": {},
   "source": [
    "### 10. List the 10 least happy countries."
   ]
  },
  {
   "cell_type": "code",
   "execution_count": 14,
   "metadata": {},
   "outputs": [
    {
     "data": {
      "text/html": [
       "<div>\n",
       "<style>\n",
       "    .dataframe thead tr:only-child th {\n",
       "        text-align: right;\n",
       "    }\n",
       "\n",
       "    .dataframe thead th {\n",
       "        text-align: left;\n",
       "    }\n",
       "\n",
       "    .dataframe tbody tr th {\n",
       "        vertical-align: top;\n",
       "    }\n",
       "</style>\n",
       "<table border=\"1\" class=\"dataframe\">\n",
       "  <thead>\n",
       "    <tr style=\"text-align: right;\">\n",
       "      <th></th>\n",
       "      <th>Country</th>\n",
       "      <th>Happiness Rank</th>\n",
       "      <th>Happiness Score</th>\n",
       "      <th>Economy</th>\n",
       "      <th>Family</th>\n",
       "      <th>Health</th>\n",
       "      <th>Freedom</th>\n",
       "      <th>Generosity</th>\n",
       "      <th>Corruption</th>\n",
       "      <th>Dystopia</th>\n",
       "      <th>Job Satisfaction</th>\n",
       "      <th>Region</th>\n",
       "    </tr>\n",
       "  </thead>\n",
       "  <tbody>\n",
       "    <tr>\n",
       "      <th>142</th>\n",
       "      <td>Haiti</td>\n",
       "      <td>145</td>\n",
       "      <td>3.603</td>\n",
       "      <td>0.368610</td>\n",
       "      <td>0.640450</td>\n",
       "      <td>0.277321</td>\n",
       "      <td>0.030370</td>\n",
       "      <td>0.489204</td>\n",
       "      <td>0.099872</td>\n",
       "      <td>1.697168</td>\n",
       "      <td>48.5</td>\n",
       "      <td>Latin America</td>\n",
       "    </tr>\n",
       "    <tr>\n",
       "      <th>143</th>\n",
       "      <td>Yemen</td>\n",
       "      <td>146</td>\n",
       "      <td>3.593</td>\n",
       "      <td>0.591683</td>\n",
       "      <td>0.935382</td>\n",
       "      <td>0.310081</td>\n",
       "      <td>0.249464</td>\n",
       "      <td>0.104125</td>\n",
       "      <td>0.056767</td>\n",
       "      <td>1.345601</td>\n",
       "      <td>58.9</td>\n",
       "      <td>Asia-Pacific</td>\n",
       "    </tr>\n",
       "    <tr>\n",
       "      <th>145</th>\n",
       "      <td>Liberia</td>\n",
       "      <td>148</td>\n",
       "      <td>3.533</td>\n",
       "      <td>0.119042</td>\n",
       "      <td>0.872118</td>\n",
       "      <td>0.229918</td>\n",
       "      <td>0.332881</td>\n",
       "      <td>0.266550</td>\n",
       "      <td>0.038948</td>\n",
       "      <td>1.673286</td>\n",
       "      <td>56.6</td>\n",
       "      <td>Africa</td>\n",
       "    </tr>\n",
       "    <tr>\n",
       "      <th>146</th>\n",
       "      <td>Guinea</td>\n",
       "      <td>149</td>\n",
       "      <td>3.507</td>\n",
       "      <td>0.244550</td>\n",
       "      <td>0.791245</td>\n",
       "      <td>0.194129</td>\n",
       "      <td>0.348588</td>\n",
       "      <td>0.264815</td>\n",
       "      <td>0.110938</td>\n",
       "      <td>1.552312</td>\n",
       "      <td>55.1</td>\n",
       "      <td>Africa</td>\n",
       "    </tr>\n",
       "    <tr>\n",
       "      <th>147</th>\n",
       "      <td>Togo</td>\n",
       "      <td>150</td>\n",
       "      <td>3.495</td>\n",
       "      <td>0.305445</td>\n",
       "      <td>0.431883</td>\n",
       "      <td>0.247106</td>\n",
       "      <td>0.380426</td>\n",
       "      <td>0.196896</td>\n",
       "      <td>0.095665</td>\n",
       "      <td>1.837229</td>\n",
       "      <td>44.8</td>\n",
       "      <td>Africa</td>\n",
       "    </tr>\n",
       "    <tr>\n",
       "      <th>148</th>\n",
       "      <td>Rwanda</td>\n",
       "      <td>151</td>\n",
       "      <td>3.471</td>\n",
       "      <td>0.368746</td>\n",
       "      <td>0.945707</td>\n",
       "      <td>0.326425</td>\n",
       "      <td>0.581844</td>\n",
       "      <td>0.252756</td>\n",
       "      <td>0.455220</td>\n",
       "      <td>0.540061</td>\n",
       "      <td>51.7</td>\n",
       "      <td>Africa</td>\n",
       "    </tr>\n",
       "    <tr>\n",
       "      <th>149</th>\n",
       "      <td>Syria</td>\n",
       "      <td>152</td>\n",
       "      <td>3.462</td>\n",
       "      <td>0.777153</td>\n",
       "      <td>0.396103</td>\n",
       "      <td>0.500533</td>\n",
       "      <td>0.081539</td>\n",
       "      <td>0.493664</td>\n",
       "      <td>0.151347</td>\n",
       "      <td>1.061574</td>\n",
       "      <td>62.7</td>\n",
       "      <td>Asia-Pacific</td>\n",
       "    </tr>\n",
       "    <tr>\n",
       "      <th>150</th>\n",
       "      <td>Tanzania</td>\n",
       "      <td>153</td>\n",
       "      <td>3.349</td>\n",
       "      <td>0.511136</td>\n",
       "      <td>1.041990</td>\n",
       "      <td>0.364509</td>\n",
       "      <td>0.390018</td>\n",
       "      <td>0.354256</td>\n",
       "      <td>0.066035</td>\n",
       "      <td>0.621130</td>\n",
       "      <td>57.8</td>\n",
       "      <td>Africa</td>\n",
       "    </tr>\n",
       "    <tr>\n",
       "      <th>151</th>\n",
       "      <td>Burundi</td>\n",
       "      <td>154</td>\n",
       "      <td>2.905</td>\n",
       "      <td>0.091623</td>\n",
       "      <td>0.629794</td>\n",
       "      <td>0.151611</td>\n",
       "      <td>0.059901</td>\n",
       "      <td>0.204435</td>\n",
       "      <td>0.084148</td>\n",
       "      <td>1.683024</td>\n",
       "      <td>54.3</td>\n",
       "      <td>Africa</td>\n",
       "    </tr>\n",
       "    <tr>\n",
       "      <th>152</th>\n",
       "      <td>Central African Republic</td>\n",
       "      <td>155</td>\n",
       "      <td>2.693</td>\n",
       "      <td>0.000000</td>\n",
       "      <td>0.000000</td>\n",
       "      <td>0.018773</td>\n",
       "      <td>0.270842</td>\n",
       "      <td>0.280876</td>\n",
       "      <td>0.056565</td>\n",
       "      <td>2.066005</td>\n",
       "      <td>70.4</td>\n",
       "      <td>Africa</td>\n",
       "    </tr>\n",
       "  </tbody>\n",
       "</table>\n",
       "</div>"
      ],
      "text/plain": [
       "                      Country  Happiness Rank  Happiness Score   Economy  \\\n",
       "142                     Haiti             145            3.603  0.368610   \n",
       "143                     Yemen             146            3.593  0.591683   \n",
       "145                   Liberia             148            3.533  0.119042   \n",
       "146                    Guinea             149            3.507  0.244550   \n",
       "147                      Togo             150            3.495  0.305445   \n",
       "148                    Rwanda             151            3.471  0.368746   \n",
       "149                     Syria             152            3.462  0.777153   \n",
       "150                  Tanzania             153            3.349  0.511136   \n",
       "151                   Burundi             154            2.905  0.091623   \n",
       "152  Central African Republic             155            2.693  0.000000   \n",
       "\n",
       "       Family    Health   Freedom  Generosity  Corruption  Dystopia  \\\n",
       "142  0.640450  0.277321  0.030370    0.489204    0.099872  1.697168   \n",
       "143  0.935382  0.310081  0.249464    0.104125    0.056767  1.345601   \n",
       "145  0.872118  0.229918  0.332881    0.266550    0.038948  1.673286   \n",
       "146  0.791245  0.194129  0.348588    0.264815    0.110938  1.552312   \n",
       "147  0.431883  0.247106  0.380426    0.196896    0.095665  1.837229   \n",
       "148  0.945707  0.326425  0.581844    0.252756    0.455220  0.540061   \n",
       "149  0.396103  0.500533  0.081539    0.493664    0.151347  1.061574   \n",
       "150  1.041990  0.364509  0.390018    0.354256    0.066035  0.621130   \n",
       "151  0.629794  0.151611  0.059901    0.204435    0.084148  1.683024   \n",
       "152  0.000000  0.018773  0.270842    0.280876    0.056565  2.066005   \n",
       "\n",
       "     Job Satisfaction         Region  \n",
       "142              48.5  Latin America  \n",
       "143              58.9   Asia-Pacific  \n",
       "145              56.6         Africa  \n",
       "146              55.1         Africa  \n",
       "147              44.8         Africa  \n",
       "148              51.7         Africa  \n",
       "149              62.7   Asia-Pacific  \n",
       "150              57.8         Africa  \n",
       "151              54.3         Africa  \n",
       "152              70.4         Africa  "
      ]
     },
     "execution_count": 14,
     "metadata": {},
     "output_type": "execute_result"
    }
   ],
   "source": [
    "df.tail(10)"
   ]
  },
  {
   "cell_type": "markdown",
   "metadata": {},
   "source": [
    "## B. Indexing and grouping"
   ]
  },
  {
   "cell_type": "code",
   "execution_count": 15,
   "metadata": {
    "collapsed": true
   },
   "outputs": [],
   "source": [
    "df1 = df.set_index('Region').copy()"
   ]
  },
  {
   "cell_type": "code",
   "execution_count": null,
   "metadata": {
    "collapsed": true
   },
   "outputs": [],
   "source": []
  },
  {
   "cell_type": "code",
   "execution_count": null,
   "metadata": {
    "collapsed": true
   },
   "outputs": [],
   "source": []
  },
  {
   "cell_type": "code",
   "execution_count": 16,
   "metadata": {},
   "outputs": [
    {
     "data": {
      "text/plain": [
       "Region\n",
       "Africa            4.254581\n",
       "Asia-Pacific      5.358326\n",
       "Eastern Europe    5.435182\n",
       "Latin America     5.957818\n",
       "North America     7.154500\n",
       "Western Europe    6.880474\n",
       "Name: Happiness Score, dtype: float64"
      ]
     },
     "execution_count": 16,
     "metadata": {},
     "output_type": "execute_result"
    }
   ],
   "source": [
    "df1['Happiness Score'].groupby('Region').mean()"
   ]
  },
  {
   "cell_type": "code",
   "execution_count": 17,
   "metadata": {
    "collapsed": true
   },
   "outputs": [],
   "source": [
    "moy=df1['Happiness Score'].groupby('Region').mean()"
   ]
  },
  {
   "cell_type": "code",
   "execution_count": 18,
   "metadata": {},
   "outputs": [
    {
     "data": {
      "text/plain": [
       "Region\n",
       "North America     7.154500\n",
       "Western Europe    6.880474\n",
       "Latin America     5.957818\n",
       "Eastern Europe    5.435182\n",
       "Asia-Pacific      5.358326\n",
       "Africa            4.254581\n",
       "Name: Happiness Score, dtype: float64"
      ]
     },
     "execution_count": 18,
     "metadata": {},
     "output_type": "execute_result"
    }
   ],
   "source": [
    "moy.sort_values(ascending=False)"
   ]
  },
  {
   "cell_type": "code",
   "execution_count": 19,
   "metadata": {
    "collapsed": true
   },
   "outputs": [],
   "source": [
    "filter= df1['Happiness Score']>6.0"
   ]
  },
  {
   "cell_type": "code",
   "execution_count": 20,
   "metadata": {
    "collapsed": true
   },
   "outputs": [],
   "source": [
    "count=df1[filter].groupby('Region').size()"
   ]
  },
  {
   "cell_type": "code",
   "execution_count": 21,
   "metadata": {},
   "outputs": [
    {
     "data": {
      "text/plain": [
       "Region\n",
       "Asia-Pacific      11\n",
       "Eastern Europe     1\n",
       "Latin America     13\n",
       "North America      2\n",
       "Western Europe    17\n",
       "dtype: int64"
      ]
     },
     "execution_count": 21,
     "metadata": {},
     "output_type": "execute_result"
    }
   ],
   "source": [
    "count"
   ]
  },
  {
   "cell_type": "code",
   "execution_count": 22,
   "metadata": {
    "collapsed": true
   },
   "outputs": [],
   "source": [
    "diff=df1['Happiness Score'].groupby('Region').max()-df1['Happiness Score'].groupby('Region').min()"
   ]
  },
  {
   "cell_type": "code",
   "execution_count": 23,
   "metadata": {},
   "outputs": [
    {
     "data": {
      "text/plain": [
       "3.8520002369999999"
      ]
     },
     "execution_count": 23,
     "metadata": {},
     "output_type": "execute_result"
    }
   ],
   "source": [
    "diff.sort_values(ascending=False).max()"
   ]
  },
  {
   "cell_type": "code",
   "execution_count": 24,
   "metadata": {},
   "outputs": [
    {
     "data": {
      "text/plain": [
       "Region\n",
       "Asia-Pacific      3.852\n",
       "Latin America     3.476\n",
       "Africa            3.179\n",
       "Western Europe    2.342\n",
       "Eastern Europe    2.002\n",
       "North America     0.323\n",
       "Name: Happiness Score, dtype: float64"
      ]
     },
     "execution_count": 24,
     "metadata": {},
     "output_type": "execute_result"
    }
   ],
   "source": [
    "diff.sort_values(ascending=False)"
   ]
  },
  {
   "cell_type": "code",
   "execution_count": 25,
   "metadata": {},
   "outputs": [
    {
     "name": "stdout",
     "output_type": "stream",
     "text": [
      "The region with the largest range of happiness scores is Asia-Pacific\n"
     ]
    }
   ],
   "source": [
    "print('The region with the largest range of happiness scores is Asia-Pacific')"
   ]
  },
  {
   "cell_type": "markdown",
   "metadata": {},
   "source": [
    "## C. Bar plot of the Happiness Score"
   ]
  },
  {
   "cell_type": "code",
   "execution_count": 26,
   "metadata": {
    "collapsed": true
   },
   "outputs": [],
   "source": [
    "import matplotlib.pyplot as plt\n",
    "%matplotlib inline"
   ]
  },
  {
   "cell_type": "code",
   "execution_count": 27,
   "metadata": {
    "collapsed": true
   },
   "outputs": [],
   "source": [
    "df.sort_values('Happiness Score')\n",
    "df.head(10)\n",
    "df=df.set_index('Country')"
   ]
  },
  {
   "cell_type": "code",
   "execution_count": 28,
   "metadata": {
    "collapsed": true
   },
   "outputs": [],
   "source": [
    "values=df[0:10]['Happiness Score']"
   ]
  },
  {
   "cell_type": "code",
   "execution_count": 29,
   "metadata": {},
   "outputs": [
    {
     "data": {
      "image/png": "[encoded data removed]",
      "text/plain": [
       "<matplotlib.figure.Figure at 0x10da954e0>"
      ]
     },
     "metadata": {},
     "output_type": "display_data"
    }
   ],
   "source": [
    "bar_plot=values.plot.barh()\n",
    "bar_plot.set_title('The 10 countries with the highest happiness score ')\n",
    "bar_plot.set_xlabel('Happiness Score')\n",
    "bar_plot.set_xbound(0,8)"
   ]
  },
  {
   "cell_type": "code",
   "execution_count": 30,
   "metadata": {},
   "outputs": [
    {
     "data": {
      "text/html": [
       "<div>\n",
       "<style>\n",
       "    .dataframe thead tr:only-child th {\n",
       "        text-align: right;\n",
       "    }\n",
       "\n",
       "    .dataframe thead th {\n",
       "        text-align: left;\n",
       "    }\n",
       "\n",
       "    .dataframe tbody tr th {\n",
       "        vertical-align: top;\n",
       "    }\n",
       "</style>\n",
       "<table border=\"1\" class=\"dataframe\">\n",
       "  <thead>\n",
       "    <tr style=\"text-align: right;\">\n",
       "      <th></th>\n",
       "      <th>Happiness Rank</th>\n",
       "      <th>Happiness Score</th>\n",
       "      <th>Economy</th>\n",
       "      <th>Family</th>\n",
       "      <th>Health</th>\n",
       "      <th>Freedom</th>\n",
       "      <th>Generosity</th>\n",
       "      <th>Corruption</th>\n",
       "      <th>Dystopia</th>\n",
       "      <th>Job Satisfaction</th>\n",
       "      <th>Region</th>\n",
       "    </tr>\n",
       "    <tr>\n",
       "      <th>Country</th>\n",
       "      <th></th>\n",
       "      <th></th>\n",
       "      <th></th>\n",
       "      <th></th>\n",
       "      <th></th>\n",
       "      <th></th>\n",
       "      <th></th>\n",
       "      <th></th>\n",
       "      <th></th>\n",
       "      <th></th>\n",
       "      <th></th>\n",
       "    </tr>\n",
       "  </thead>\n",
       "  <tbody>\n",
       "    <tr>\n",
       "      <th>Norway</th>\n",
       "      <td>1</td>\n",
       "      <td>7.537</td>\n",
       "      <td>1.616463</td>\n",
       "      <td>1.533524</td>\n",
       "      <td>0.796667</td>\n",
       "      <td>0.635423</td>\n",
       "      <td>0.362012</td>\n",
       "      <td>0.315964</td>\n",
       "      <td>2.277027</td>\n",
       "      <td>94.6</td>\n",
       "      <td>Western Europe</td>\n",
       "    </tr>\n",
       "    <tr>\n",
       "      <th>Denmark</th>\n",
       "      <td>2</td>\n",
       "      <td>7.522</td>\n",
       "      <td>1.482383</td>\n",
       "      <td>1.551122</td>\n",
       "      <td>0.792566</td>\n",
       "      <td>0.626007</td>\n",
       "      <td>0.355280</td>\n",
       "      <td>0.400770</td>\n",
       "      <td>2.313707</td>\n",
       "      <td>93.5</td>\n",
       "      <td>Western Europe</td>\n",
       "    </tr>\n",
       "    <tr>\n",
       "      <th>Iceland</th>\n",
       "      <td>3</td>\n",
       "      <td>7.504</td>\n",
       "      <td>1.480633</td>\n",
       "      <td>1.610574</td>\n",
       "      <td>0.833552</td>\n",
       "      <td>0.627163</td>\n",
       "      <td>0.475540</td>\n",
       "      <td>0.153527</td>\n",
       "      <td>2.322715</td>\n",
       "      <td>94.5</td>\n",
       "      <td>Western Europe</td>\n",
       "    </tr>\n",
       "    <tr>\n",
       "      <th>Switzerland</th>\n",
       "      <td>4</td>\n",
       "      <td>7.494</td>\n",
       "      <td>1.564980</td>\n",
       "      <td>1.516912</td>\n",
       "      <td>0.858131</td>\n",
       "      <td>0.620071</td>\n",
       "      <td>0.290549</td>\n",
       "      <td>0.367007</td>\n",
       "      <td>2.276716</td>\n",
       "      <td>93.7</td>\n",
       "      <td>Western Europe</td>\n",
       "    </tr>\n",
       "    <tr>\n",
       "      <th>Finland</th>\n",
       "      <td>5</td>\n",
       "      <td>7.469</td>\n",
       "      <td>1.443572</td>\n",
       "      <td>1.540247</td>\n",
       "      <td>0.809158</td>\n",
       "      <td>0.617951</td>\n",
       "      <td>0.245483</td>\n",
       "      <td>0.382612</td>\n",
       "      <td>2.430182</td>\n",
       "      <td>91.2</td>\n",
       "      <td>Western Europe</td>\n",
       "    </tr>\n",
       "  </tbody>\n",
       "</table>\n",
       "</div>"
      ],
      "text/plain": [
       "             Happiness Rank  Happiness Score   Economy    Family    Health  \\\n",
       "Country                                                                      \n",
       "Norway                    1            7.537  1.616463  1.533524  0.796667   \n",
       "Denmark                   2            7.522  1.482383  1.551122  0.792566   \n",
       "Iceland                   3            7.504  1.480633  1.610574  0.833552   \n",
       "Switzerland               4            7.494  1.564980  1.516912  0.858131   \n",
       "Finland                   5            7.469  1.443572  1.540247  0.809158   \n",
       "\n",
       "              Freedom  Generosity  Corruption  Dystopia  Job Satisfaction  \\\n",
       "Country                                                                     \n",
       "Norway       0.635423    0.362012    0.315964  2.277027              94.6   \n",
       "Denmark      0.626007    0.355280    0.400770  2.313707              93.5   \n",
       "Iceland      0.627163    0.475540    0.153527  2.322715              94.5   \n",
       "Switzerland  0.620071    0.290549    0.367007  2.276716              93.7   \n",
       "Finland      0.617951    0.245483    0.382612  2.430182              91.2   \n",
       "\n",
       "                     Region  \n",
       "Country                      \n",
       "Norway       Western Europe  \n",
       "Denmark      Western Europe  \n",
       "Iceland      Western Europe  \n",
       "Switzerland  Western Europe  \n",
       "Finland      Western Europe  "
      ]
     },
     "execution_count": 30,
     "metadata": {},
     "output_type": "execute_result"
    }
   ],
   "source": [
    "df.head()"
   ]
  },
  {
   "cell_type": "code",
   "execution_count": null,
   "metadata": {
    "collapsed": true
   },
   "outputs": [],
   "source": []
  },
  {
   "cell_type": "code",
   "execution_count": 31,
   "metadata": {
    "collapsed": true
   },
   "outputs": [],
   "source": [
    "col=['Economy','Family','Health','Freedom','Generosity','Corruption','Dystopia']"
   ]
  },
  {
   "cell_type": "code",
   "execution_count": 32,
   "metadata": {
    "collapsed": true
   },
   "outputs": [],
   "source": [
    "values3=df[0:10][col]"
   ]
  },
  {
   "cell_type": "code",
   "execution_count": null,
   "metadata": {
    "collapsed": true
   },
   "outputs": [],
   "source": []
  },
  {
   "cell_type": "code",
   "execution_count": 33,
   "metadata": {},
   "outputs": [
    {
     "data": {
      "text/plain": [
       "<matplotlib.legend.Legend at 0x112ad8cc0>"
      ]
     },
     "execution_count": 33,
     "metadata": {},
     "output_type": "execute_result"
    },
    {
     "data": {
      "image/png": "[encoded data removed]",
      "text/plain": [
       "<matplotlib.figure.Figure at 0x112a92ef0>"
      ]
     },
     "metadata": {},
     "output_type": "display_data"
    }
   ],
   "source": [
    "bar_plot=values3.plot.barh(stacked=True)\n",
    "bar_plot.set_xlabel('Scores')\n",
    "bar_plot.set_xbound(0,11)\n",
    "bar_plot.legend(loc=\"upper right\")"
   ]
  },
  {
   "cell_type": "code",
   "execution_count": 34,
   "metadata": {
    "collapsed": true
   },
   "outputs": [],
   "source": [
    "filter2 = df['Region']=='Africa'"
   ]
  },
  {
   "cell_type": "code",
   "execution_count": 35,
   "metadata": {
    "collapsed": true
   },
   "outputs": [],
   "source": [
    "values4=df[filter2][col]"
   ]
  },
  {
   "cell_type": "code",
   "execution_count": 36,
   "metadata": {},
   "outputs": [
    {
     "data": {
      "text/plain": [
       "<matplotlib.legend.Legend at 0x115e82f98>"
      ]
     },
     "execution_count": 36,
     "metadata": {},
     "output_type": "execute_result"
    },
    {
     "data": {
      "image/png": "[encoded data removed]",
      "text/plain": [
       "<matplotlib.figure.Figure at 0x115e96208>"
      ]
     },
     "metadata": {},
     "output_type": "display_data"
    }
   ],
   "source": [
    "bar_plot=values4.plot.barh(stacked=True)\n",
    "bar_plot.set_xlabel('Scores')\n",
    "bar_plot.set_xbound(0,7)\n",
    "bar_plot.legend(loc=\"upper right\")"
   ]
  },
  {
   "cell_type": "markdown",
   "metadata": {
    "collapsed": true
   },
   "source": [
    "## D. Histogram of Job Satisfaction"
   ]
  },
  {
   "cell_type": "code",
   "execution_count": 37,
   "metadata": {},
   "outputs": [
    {
     "data": {
      "image/png": "[encoded data removed]",
      "text/plain": [
       "<matplotlib.figure.Figure at 0x116022d30>"
      ]
     },
     "metadata": {},
     "output_type": "display_data"
    }
   ],
   "source": [
    "plt.hist(df['Job Satisfaction'],bins=[40,50,50,70,80,90,100])\n",
    "plt.xlim(xmin=40.0,xmax=100.0)\n",
    "plt.show()"
   ]
  },
  {
   "cell_type": "code",
   "execution_count": 38,
   "metadata": {
    "collapsed": true
   },
   "outputs": [],
   "source": [
    "import seaborn as sns"
   ]
  },
  {
   "cell_type": "code",
   "execution_count": 39,
   "metadata": {},
   "outputs": [
    {
     "data": {
      "text/plain": [
       "<seaborn.axisgrid.PairGrid at 0x1a17f46c88>"
      ]
     },
     "execution_count": 39,
     "metadata": {},
     "output_type": "execute_result"
    },
    {
     "data": {
      "image/png": "[encoded data removed]",
      "text/plain": [
       "<matplotlib.figure.Figure at 0x1a17f46cc0>"
      ]
     },
     "metadata": {},
     "output_type": "display_data"
    }
   ],
   "source": [
    "sns.pairplot(df, x_vars=['Happiness Score'], y_vars=['Economy','Family','Health','Freedom','Generosity','Corruption','Dystopia', 'Job Satisfaction'])"
   ]
  },
  {
   "cell_type": "code",
   "execution_count": 40,
   "metadata": {},
   "outputs": [
    {
     "data": {
      "text/plain": [
       "<seaborn.axisgrid.PairGrid at 0x1a181db2e8>"
      ]
     },
     "execution_count": 40,
     "metadata": {},
     "output_type": "execute_result"
    },
    {
     "data": {
      "image/png": "[encoded data removed]",
      "text/plain": [
       "<matplotlib.figure.Figure at 0x1a181db6a0>"
      ]
     },
     "metadata": {},
     "output_type": "display_data"
    }
   ],
   "source": [
    "sns.pairplot(df, x_vars=['Happiness Score'], y_vars=['Economy','Family','Health','Freedom','Generosity','Corruption','Dystopia', 'Job Satisfaction'], kind='reg')"
   ]
  },
  {
   "cell_type": "markdown",
   "metadata": {},
   "source": [
    "### F. Correlation"
   ]
  },
  {
   "cell_type": "code",
   "execution_count": 41,
   "metadata": {},
   "outputs": [
    {
     "data": {
      "text/html": [
       "<div>\n",
       "<style>\n",
       "    .dataframe thead tr:only-child th {\n",
       "        text-align: right;\n",
       "    }\n",
       "\n",
       "    .dataframe thead th {\n",
       "        text-align: left;\n",
       "    }\n",
       "\n",
       "    .dataframe tbody tr th {\n",
       "        vertical-align: top;\n",
       "    }\n",
       "</style>\n",
       "<table border=\"1\" class=\"dataframe\">\n",
       "  <thead>\n",
       "    <tr style=\"text-align: right;\">\n",
       "      <th></th>\n",
       "      <th>Happiness Rank</th>\n",
       "      <th>Happiness Score</th>\n",
       "      <th>Economy</th>\n",
       "      <th>Family</th>\n",
       "      <th>Health</th>\n",
       "      <th>Freedom</th>\n",
       "      <th>Generosity</th>\n",
       "      <th>Corruption</th>\n",
       "      <th>Dystopia</th>\n",
       "      <th>Job Satisfaction</th>\n",
       "    </tr>\n",
       "  </thead>\n",
       "  <tbody>\n",
       "    <tr>\n",
       "      <th>Happiness Rank</th>\n",
       "      <td>1.000000</td>\n",
       "      <td>-0.992663</td>\n",
       "      <td>-0.809521</td>\n",
       "      <td>-0.733902</td>\n",
       "      <td>-0.776602</td>\n",
       "      <td>-0.550111</td>\n",
       "      <td>-0.142348</td>\n",
       "      <td>-0.415532</td>\n",
       "      <td>-0.489194</td>\n",
       "      <td>-0.814535</td>\n",
       "    </tr>\n",
       "    <tr>\n",
       "      <th>Happiness Score</th>\n",
       "      <td>-0.992663</td>\n",
       "      <td>1.000000</td>\n",
       "      <td>0.808678</td>\n",
       "      <td>0.749612</td>\n",
       "      <td>0.777731</td>\n",
       "      <td>0.567948</td>\n",
       "      <td>0.164123</td>\n",
       "      <td>0.438262</td>\n",
       "      <td>0.481117</td>\n",
       "      <td>0.812873</td>\n",
       "    </tr>\n",
       "    <tr>\n",
       "      <th>Economy</th>\n",
       "      <td>-0.809521</td>\n",
       "      <td>0.808678</td>\n",
       "      <td>1.000000</td>\n",
       "      <td>0.685524</td>\n",
       "      <td>0.838884</td>\n",
       "      <td>0.363843</td>\n",
       "      <td>-0.015614</td>\n",
       "      <td>0.358750</td>\n",
       "      <td>0.022620</td>\n",
       "      <td>0.700662</td>\n",
       "    </tr>\n",
       "    <tr>\n",
       "      <th>Family</th>\n",
       "      <td>-0.733902</td>\n",
       "      <td>0.749612</td>\n",
       "      <td>0.685524</td>\n",
       "      <td>1.000000</td>\n",
       "      <td>0.606674</td>\n",
       "      <td>0.412633</td>\n",
       "      <td>0.050771</td>\n",
       "      <td>0.236262</td>\n",
       "      <td>0.075480</td>\n",
       "      <td>0.623266</td>\n",
       "    </tr>\n",
       "    <tr>\n",
       "      <th>Health</th>\n",
       "      <td>-0.776602</td>\n",
       "      <td>0.777731</td>\n",
       "      <td>0.838884</td>\n",
       "      <td>0.606674</td>\n",
       "      <td>1.000000</td>\n",
       "      <td>0.340986</td>\n",
       "      <td>0.068895</td>\n",
       "      <td>0.286777</td>\n",
       "      <td>0.055886</td>\n",
       "      <td>0.704795</td>\n",
       "    </tr>\n",
       "    <tr>\n",
       "      <th>Freedom</th>\n",
       "      <td>-0.550111</td>\n",
       "      <td>0.567948</td>\n",
       "      <td>0.363843</td>\n",
       "      <td>0.412633</td>\n",
       "      <td>0.340986</td>\n",
       "      <td>1.000000</td>\n",
       "      <td>0.319387</td>\n",
       "      <td>0.501632</td>\n",
       "      <td>0.092923</td>\n",
       "      <td>0.500655</td>\n",
       "    </tr>\n",
       "    <tr>\n",
       "      <th>Generosity</th>\n",
       "      <td>-0.142348</td>\n",
       "      <td>0.164123</td>\n",
       "      <td>-0.015614</td>\n",
       "      <td>0.050771</td>\n",
       "      <td>0.068895</td>\n",
       "      <td>0.319387</td>\n",
       "      <td>1.000000</td>\n",
       "      <td>0.292363</td>\n",
       "      <td>-0.102683</td>\n",
       "      <td>0.220032</td>\n",
       "    </tr>\n",
       "    <tr>\n",
       "      <th>Corruption</th>\n",
       "      <td>-0.415532</td>\n",
       "      <td>0.438262</td>\n",
       "      <td>0.358750</td>\n",
       "      <td>0.236262</td>\n",
       "      <td>0.286777</td>\n",
       "      <td>0.501632</td>\n",
       "      <td>0.292363</td>\n",
       "      <td>1.000000</td>\n",
       "      <td>-0.014995</td>\n",
       "      <td>0.337131</td>\n",
       "    </tr>\n",
       "    <tr>\n",
       "      <th>Dystopia</th>\n",
       "      <td>-0.489194</td>\n",
       "      <td>0.481117</td>\n",
       "      <td>0.022620</td>\n",
       "      <td>0.075480</td>\n",
       "      <td>0.055886</td>\n",
       "      <td>0.092923</td>\n",
       "      <td>-0.102683</td>\n",
       "      <td>-0.014995</td>\n",
       "      <td>1.000000</td>\n",
       "      <td>0.281655</td>\n",
       "    </tr>\n",
       "    <tr>\n",
       "      <th>Job Satisfaction</th>\n",
       "      <td>-0.814535</td>\n",
       "      <td>0.812873</td>\n",
       "      <td>0.700662</td>\n",
       "      <td>0.623266</td>\n",
       "      <td>0.704795</td>\n",
       "      <td>0.500655</td>\n",
       "      <td>0.220032</td>\n",
       "      <td>0.337131</td>\n",
       "      <td>0.281655</td>\n",
       "      <td>1.000000</td>\n",
       "    </tr>\n",
       "  </tbody>\n",
       "</table>\n",
       "</div>"
      ],
      "text/plain": [
       "                  Happiness Rank  Happiness Score   Economy    Family  \\\n",
       "Happiness Rank          1.000000        -0.992663 -0.809521 -0.733902   \n",
       "Happiness Score        -0.992663         1.000000  0.808678  0.749612   \n",
       "Economy                -0.809521         0.808678  1.000000  0.685524   \n",
       "Family                 -0.733902         0.749612  0.685524  1.000000   \n",
       "Health                 -0.776602         0.777731  0.838884  0.606674   \n",
       "Freedom                -0.550111         0.567948  0.363843  0.412633   \n",
       "Generosity             -0.142348         0.164123 -0.015614  0.050771   \n",
       "Corruption             -0.415532         0.438262  0.358750  0.236262   \n",
       "Dystopia               -0.489194         0.481117  0.022620  0.075480   \n",
       "Job Satisfaction       -0.814535         0.812873  0.700662  0.623266   \n",
       "\n",
       "                    Health   Freedom  Generosity  Corruption  Dystopia  \\\n",
       "Happiness Rank   -0.776602 -0.550111   -0.142348   -0.415532 -0.489194   \n",
       "Happiness Score   0.777731  0.567948    0.164123    0.438262  0.481117   \n",
       "Economy           0.838884  0.363843   -0.015614    0.358750  0.022620   \n",
       "Family            0.606674  0.412633    0.050771    0.236262  0.075480   \n",
       "Health            1.000000  0.340986    0.068895    0.286777  0.055886   \n",
       "Freedom           0.340986  1.000000    0.319387    0.501632  0.092923   \n",
       "Generosity        0.068895  0.319387    1.000000    0.292363 -0.102683   \n",
       "Corruption        0.286777  0.501632    0.292363    1.000000 -0.014995   \n",
       "Dystopia          0.055886  0.092923   -0.102683   -0.014995  1.000000   \n",
       "Job Satisfaction  0.704795  0.500655    0.220032    0.337131  0.281655   \n",
       "\n",
       "                  Job Satisfaction  \n",
       "Happiness Rank           -0.814535  \n",
       "Happiness Score           0.812873  \n",
       "Economy                   0.700662  \n",
       "Family                    0.623266  \n",
       "Health                    0.704795  \n",
       "Freedom                   0.500655  \n",
       "Generosity                0.220032  \n",
       "Corruption                0.337131  \n",
       "Dystopia                  0.281655  \n",
       "Job Satisfaction          1.000000  "
      ]
     },
     "execution_count": 41,
     "metadata": {},
     "output_type": "execute_result"
    }
   ],
   "source": [
    "df.corr(method='pearson')"
   ]
  },
  {
   "cell_type": "code",
   "execution_count": 42,
   "metadata": {},
   "outputs": [
    {
     "name": "stdout",
     "output_type": "stream",
     "text": [
      "\"Job satisfaction\" has the highest correlation with \"Happiness score\"\n"
     ]
    }
   ],
   "source": [
    "print('\"Job satisfaction\" has the highest correlation with \"Happiness score\"')"
   ]
  },
  {
   "cell_type": "markdown",
   "metadata": {},
   "source": [
    "### G. Probabilities"
   ]
  },
  {
   "cell_type": "code",
   "execution_count": 43,
   "metadata": {
    "collapsed": true
   },
   "outputs": [],
   "source": [
    "import random"
   ]
  },
  {
   "cell_type": "code",
   "execution_count": 89,
   "metadata": {},
   "outputs": [],
   "source": [
    "select=df['Happiness Score']"
   ]
  },
  {
   "cell_type": "code",
   "execution_count": 80,
   "metadata": {},
   "outputs": [],
   "source": [
    "val1=select[random.randrange(len(select))]"
   ]
  },
  {
   "cell_type": "code",
   "execution_count": 81,
   "metadata": {},
   "outputs": [],
   "source": [
    "select2=df['Region']"
   ]
  },
  {
   "cell_type": "code",
   "execution_count": 82,
   "metadata": {},
   "outputs": [],
   "source": [
    "val2=select2[random.randrange(len(select2))]"
   ]
  },
  {
   "cell_type": "code",
   "execution_count": 83,
   "metadata": {},
   "outputs": [
    {
     "data": {
      "text/plain": [
       "0.036643"
      ]
     },
     "execution_count": 83,
     "metadata": {},
     "output_type": "execute_result"
    }
   ],
   "source": [
    "experiments = 1000000\n",
    "counter = 0\n",
    "for i in range(experiments):\n",
    "    val1=select[random.randrange(len(select))]\n",
    "    val2=select2[random.randrange(len(select2))]\n",
    "    if val1>6.0 and val2=='Western Europe':\n",
    "        counter += 1\n",
    "\n",
    "counter / experiments"
   ]
  },
  {
   "cell_type": "markdown",
   "metadata": {},
   "source": [
    "### H. Matrices"
   ]
  },
  {
   "cell_type": "code",
   "execution_count": 94,
   "metadata": {},
   "outputs": [],
   "source": [
    "x=np.array([select2])"
   ]
  },
  {
   "cell_type": "code",
   "execution_count": 95,
   "metadata": {},
   "outputs": [
    {
     "data": {
      "text/plain": [
       "(1, 151)"
      ]
     },
     "execution_count": 95,
     "metadata": {},
     "output_type": "execute_result"
    }
   ],
   "source": [
    "x.shape"
   ]
  },
  {
   "cell_type": "code",
   "execution_count": 96,
   "metadata": {},
   "outputs": [
    {
     "data": {
      "text/plain": [
       "array([['Western Europe', 'Western Europe', 'Western Europe',\n",
       "        'Western Europe', 'Western Europe', 'Western Europe',\n",
       "        'North America', 'Asia-Pacific', 'Western Europe', 'Asia-Pacific',\n",
       "        'Asia-Pacific', 'Latin America', 'Western Europe', 'North America',\n",
       "        'Western Europe', 'Western Europe', 'Western Europe',\n",
       "        'Western Europe', 'Western Europe', 'Latin America',\n",
       "        'Asia-Pacific', 'Latin America', 'Western Europe', 'Latin America',\n",
       "        'Latin America', 'Asia-Pacific', 'Western Europe', 'Latin America',\n",
       "        'Latin America', 'Latin America', 'Western Europe', 'Asia-Pacific',\n",
       "        'Western Europe', 'Asia-Pacific', 'Latin America', 'Asia-Pacific',\n",
       "        'Latin America', 'Asia-Pacific', 'Eastern Europe', 'Asia-Pacific',\n",
       "        'Asia-Pacific', 'Latin America', 'Latin America', 'Latin America',\n",
       "        'Eastern Europe', 'Asia-Pacific', 'Western Europe',\n",
       "        'Eastern Europe', 'Latin America', 'Asia-Pacific',\n",
       "        'Eastern Europe', 'Africa', 'Eastern Europe', 'Asia-Pacific',\n",
       "        'Eastern Europe', 'Eastern Europe', 'Latin America',\n",
       "        'Asia-Pacific', 'Asia-Pacific', 'Eastern Europe', 'Latin America',\n",
       "        'Africa', 'Eastern Europe', 'Eastern Europe', 'Eastern Europe',\n",
       "        'Africa', 'Asia-Pacific', 'Latin America', 'Asia-Pacific',\n",
       "        'Asia-Pacific', 'Eastern Europe', 'Asia-Pacific', 'Eastern Europe',\n",
       "        'Latin America', 'Eastern Europe', 'Eastern Europe',\n",
       "        'Asia-Pacific', 'Asia-Pacific', 'Asia-Pacific', 'Latin America',\n",
       "        'Eastern Europe', 'Africa', 'Asia-Pacific', 'Latin America',\n",
       "        'Eastern Europe', 'Asia-Pacific', 'Western Europe',\n",
       "        'Eastern Europe', 'Latin America', 'Eastern Europe', 'Africa',\n",
       "        'Asia-Pacific', 'Africa', 'Asia-Pacific', 'Asia-Pacific',\n",
       "        'Asia-Pacific', 'Asia-Pacific', 'Africa', 'Africa', 'Asia-Pacific',\n",
       "        'Africa', 'Eastern Europe', 'Africa', 'Africa', 'Asia-Pacific',\n",
       "        'Eastern Europe', 'Asia-Pacific', 'Africa', 'Africa', 'Africa',\n",
       "        'Asia-Pacific', 'Africa', 'Africa', 'Asia-Pacific', 'Africa',\n",
       "        'Africa', 'Asia-Pacific', 'Asia-Pacific', 'Asia-Pacific', 'Africa',\n",
       "        'Africa', 'Asia-Pacific', 'Africa', 'Africa', 'Africa',\n",
       "        'Asia-Pacific', 'Africa', 'Africa', 'Eastern Europe', 'Africa',\n",
       "        'Africa', 'Africa', 'Africa', 'Africa', 'Africa', 'Africa',\n",
       "        'Africa', 'Asia-Pacific', 'Africa', 'Africa', 'Africa',\n",
       "        'Latin America', 'Asia-Pacific', 'Africa', 'Africa', 'Africa',\n",
       "        'Africa', 'Asia-Pacific', 'Africa', 'Africa', 'Africa']], dtype=object)"
      ]
     },
     "execution_count": 96,
     "metadata": {},
     "output_type": "execute_result"
    }
   ],
   "source": [
    "x"
   ]
  },
  {
   "cell_type": "code",
   "execution_count": 98,
   "metadata": {},
   "outputs": [
    {
     "data": {
      "text/plain": [
       "2"
      ]
     },
     "execution_count": 98,
     "metadata": {},
     "output_type": "execute_result"
    }
   ],
   "source": [
    "x.ndim"
   ]
  },
  {
   "cell_type": "code",
   "execution_count": null,
   "metadata": {},
   "outputs": [],
   "source": []
  },
  {
   "cell_type": "code",
   "execution_count": 106,
   "metadata": {
    "collapsed": true
   },
   "outputs": [],
   "source": [
    "x2=np.zeros((151,6), dtype=np.int)"
   ]
  },
  {
   "cell_type": "code",
   "execution_count": 107,
   "metadata": {},
   "outputs": [
    {
     "data": {
      "text/plain": [
       "array([[0, 0, 0, 0, 0, 0],\n",
       "       [0, 0, 0, 0, 0, 0],\n",
       "       [0, 0, 0, 0, 0, 0],\n",
       "       [0, 0, 0, 0, 0, 0],\n",
       "       [0, 0, 0, 0, 0, 0],\n",
       "       [0, 0, 0, 0, 0, 0],\n",
       "       [0, 0, 0, 0, 0, 0],\n",
       "       [0, 0, 0, 0, 0, 0],\n",
       "       [0, 0, 0, 0, 0, 0],\n",
       "       [0, 0, 0, 0, 0, 0],\n",
       "       [0, 0, 0, 0, 0, 0],\n",
       "       [0, 0, 0, 0, 0, 0],\n",
       "       [0, 0, 0, 0, 0, 0],\n",
       "       [0, 0, 0, 0, 0, 0],\n",
       "       [0, 0, 0, 0, 0, 0],\n",
       "       [0, 0, 0, 0, 0, 0],\n",
       "       [0, 0, 0, 0, 0, 0],\n",
       "       [0, 0, 0, 0, 0, 0],\n",
       "       [0, 0, 0, 0, 0, 0],\n",
       "       [0, 0, 0, 0, 0, 0],\n",
       "       [0, 0, 0, 0, 0, 0],\n",
       "       [0, 0, 0, 0, 0, 0],\n",
       "       [0, 0, 0, 0, 0, 0],\n",
       "       [0, 0, 0, 0, 0, 0],\n",
       "       [0, 0, 0, 0, 0, 0],\n",
       "       [0, 0, 0, 0, 0, 0],\n",
       "       [0, 0, 0, 0, 0, 0],\n",
       "       [0, 0, 0, 0, 0, 0],\n",
       "       [0, 0, 0, 0, 0, 0],\n",
       "       [0, 0, 0, 0, 0, 0],\n",
       "       [0, 0, 0, 0, 0, 0],\n",
       "       [0, 0, 0, 0, 0, 0],\n",
       "       [0, 0, 0, 0, 0, 0],\n",
       "       [0, 0, 0, 0, 0, 0],\n",
       "       [0, 0, 0, 0, 0, 0],\n",
       "       [0, 0, 0, 0, 0, 0],\n",
       "       [0, 0, 0, 0, 0, 0],\n",
       "       [0, 0, 0, 0, 0, 0],\n",
       "       [0, 0, 0, 0, 0, 0],\n",
       "       [0, 0, 0, 0, 0, 0],\n",
       "       [0, 0, 0, 0, 0, 0],\n",
       "       [0, 0, 0, 0, 0, 0],\n",
       "       [0, 0, 0, 0, 0, 0],\n",
       "       [0, 0, 0, 0, 0, 0],\n",
       "       [0, 0, 0, 0, 0, 0],\n",
       "       [0, 0, 0, 0, 0, 0],\n",
       "       [0, 0, 0, 0, 0, 0],\n",
       "       [0, 0, 0, 0, 0, 0],\n",
       "       [0, 0, 0, 0, 0, 0],\n",
       "       [0, 0, 0, 0, 0, 0],\n",
       "       [0, 0, 0, 0, 0, 0],\n",
       "       [0, 0, 0, 0, 0, 0],\n",
       "       [0, 0, 0, 0, 0, 0],\n",
       "       [0, 0, 0, 0, 0, 0],\n",
       "       [0, 0, 0, 0, 0, 0],\n",
       "       [0, 0, 0, 0, 0, 0],\n",
       "       [0, 0, 0, 0, 0, 0],\n",
       "       [0, 0, 0, 0, 0, 0],\n",
       "       [0, 0, 0, 0, 0, 0],\n",
       "       [0, 0, 0, 0, 0, 0],\n",
       "       [0, 0, 0, 0, 0, 0],\n",
       "       [0, 0, 0, 0, 0, 0],\n",
       "       [0, 0, 0, 0, 0, 0],\n",
       "       [0, 0, 0, 0, 0, 0],\n",
       "       [0, 0, 0, 0, 0, 0],\n",
       "       [0, 0, 0, 0, 0, 0],\n",
       "       [0, 0, 0, 0, 0, 0],\n",
       "       [0, 0, 0, 0, 0, 0],\n",
       "       [0, 0, 0, 0, 0, 0],\n",
       "       [0, 0, 0, 0, 0, 0],\n",
       "       [0, 0, 0, 0, 0, 0],\n",
       "       [0, 0, 0, 0, 0, 0],\n",
       "       [0, 0, 0, 0, 0, 0],\n",
       "       [0, 0, 0, 0, 0, 0],\n",
       "       [0, 0, 0, 0, 0, 0],\n",
       "       [0, 0, 0, 0, 0, 0],\n",
       "       [0, 0, 0, 0, 0, 0],\n",
       "       [0, 0, 0, 0, 0, 0],\n",
       "       [0, 0, 0, 0, 0, 0],\n",
       "       [0, 0, 0, 0, 0, 0],\n",
       "       [0, 0, 0, 0, 0, 0],\n",
       "       [0, 0, 0, 0, 0, 0],\n",
       "       [0, 0, 0, 0, 0, 0],\n",
       "       [0, 0, 0, 0, 0, 0],\n",
       "       [0, 0, 0, 0, 0, 0],\n",
       "       [0, 0, 0, 0, 0, 0],\n",
       "       [0, 0, 0, 0, 0, 0],\n",
       "       [0, 0, 0, 0, 0, 0],\n",
       "       [0, 0, 0, 0, 0, 0],\n",
       "       [0, 0, 0, 0, 0, 0],\n",
       "       [0, 0, 0, 0, 0, 0],\n",
       "       [0, 0, 0, 0, 0, 0],\n",
       "       [0, 0, 0, 0, 0, 0],\n",
       "       [0, 0, 0, 0, 0, 0],\n",
       "       [0, 0, 0, 0, 0, 0],\n",
       "       [0, 0, 0, 0, 0, 0],\n",
       "       [0, 0, 0, 0, 0, 0],\n",
       "       [0, 0, 0, 0, 0, 0],\n",
       "       [0, 0, 0, 0, 0, 0],\n",
       "       [0, 0, 0, 0, 0, 0],\n",
       "       [0, 0, 0, 0, 0, 0],\n",
       "       [0, 0, 0, 0, 0, 0],\n",
       "       [0, 0, 0, 0, 0, 0],\n",
       "       [0, 0, 0, 0, 0, 0],\n",
       "       [0, 0, 0, 0, 0, 0],\n",
       "       [0, 0, 0, 0, 0, 0],\n",
       "       [0, 0, 0, 0, 0, 0],\n",
       "       [0, 0, 0, 0, 0, 0],\n",
       "       [0, 0, 0, 0, 0, 0],\n",
       "       [0, 0, 0, 0, 0, 0],\n",
       "       [0, 0, 0, 0, 0, 0],\n",
       "       [0, 0, 0, 0, 0, 0],\n",
       "       [0, 0, 0, 0, 0, 0],\n",
       "       [0, 0, 0, 0, 0, 0],\n",
       "       [0, 0, 0, 0, 0, 0],\n",
       "       [0, 0, 0, 0, 0, 0],\n",
       "       [0, 0, 0, 0, 0, 0],\n",
       "       [0, 0, 0, 0, 0, 0],\n",
       "       [0, 0, 0, 0, 0, 0],\n",
       "       [0, 0, 0, 0, 0, 0],\n",
       "       [0, 0, 0, 0, 0, 0],\n",
       "       [0, 0, 0, 0, 0, 0],\n",
       "       [0, 0, 0, 0, 0, 0],\n",
       "       [0, 0, 0, 0, 0, 0],\n",
       "       [0, 0, 0, 0, 0, 0],\n",
       "       [0, 0, 0, 0, 0, 0],\n",
       "       [0, 0, 0, 0, 0, 0],\n",
       "       [0, 0, 0, 0, 0, 0],\n",
       "       [0, 0, 0, 0, 0, 0],\n",
       "       [0, 0, 0, 0, 0, 0],\n",
       "       [0, 0, 0, 0, 0, 0],\n",
       "       [0, 0, 0, 0, 0, 0],\n",
       "       [0, 0, 0, 0, 0, 0],\n",
       "       [0, 0, 0, 0, 0, 0],\n",
       "       [0, 0, 0, 0, 0, 0],\n",
       "       [0, 0, 0, 0, 0, 0],\n",
       "       [0, 0, 0, 0, 0, 0],\n",
       "       [0, 0, 0, 0, 0, 0],\n",
       "       [0, 0, 0, 0, 0, 0],\n",
       "       [0, 0, 0, 0, 0, 0],\n",
       "       [0, 0, 0, 0, 0, 0],\n",
       "       [0, 0, 0, 0, 0, 0],\n",
       "       [0, 0, 0, 0, 0, 0],\n",
       "       [0, 0, 0, 0, 0, 0],\n",
       "       [0, 0, 0, 0, 0, 0],\n",
       "       [0, 0, 0, 0, 0, 0],\n",
       "       [0, 0, 0, 0, 0, 0],\n",
       "       [0, 0, 0, 0, 0, 0],\n",
       "       [0, 0, 0, 0, 0, 0],\n",
       "       [0, 0, 0, 0, 0, 0],\n",
       "       [0, 0, 0, 0, 0, 0]])"
      ]
     },
     "execution_count": 107,
     "metadata": {},
     "output_type": "execute_result"
    }
   ],
   "source": [
    "x2"
   ]
  },
  {
   "cell_type": "code",
   "execution_count": 110,
   "metadata": {},
   "outputs": [
    {
     "data": {
      "text/plain": [
       "2"
      ]
     },
     "execution_count": 110,
     "metadata": {},
     "output_type": "execute_result"
    }
   ],
   "source": [
    "x2.ndim"
   ]
  },
  {
   "cell_type": "code",
   "execution_count": 111,
   "metadata": {},
   "outputs": [
    {
     "data": {
      "text/plain": [
       "(151, 6)"
      ]
     },
     "execution_count": 111,
     "metadata": {},
     "output_type": "execute_result"
    }
   ],
   "source": [
    "x2.shape"
   ]
  },
  {
   "cell_type": "code",
   "execution_count": 113,
   "metadata": {},
   "outputs": [
    {
     "ename": "SyntaxError",
     "evalue": "invalid syntax (<ipython-input-113-a5d79e7fd4eb>, line 2)",
     "output_type": "error",
     "traceback": [
      "\u001b[0;36m  File \u001b[0;32m\"<ipython-input-113-a5d79e7fd4eb>\"\u001b[0;36m, line \u001b[0;32m2\u001b[0m\n\u001b[0;31m    if df.[df.Region==\"Africa\"]:\u001b[0m\n\u001b[0m          ^\u001b[0m\n\u001b[0;31mSyntaxError\u001b[0m\u001b[0;31m:\u001b[0m invalid syntax\n"
     ]
    }
   ],
   "source": [
    "\n",
    "if df.[df.Region==\"Africa\"]:\n",
    "    x2[:,1]=1\n",
    "elif df.[df.Region==\"Asia-Pacific\"]:\n",
    "    x2[:,2]=1\n",
    "elif df.[df.Region==\"Eastern Europe\"]:\n",
    "    x2[:,3]=1\n",
    "elif df.[df.Region==\"Western Europe\"]:\n",
    "    x2[:,4]=1\n",
    "elif df.[df.Region==\"Latin America\"]:\n",
    "    x2[:,5]=1\n",
    "elif df.[df.Region==\"North America\"]:\n",
    "    x2[:,6]=1"
   ]
  },
  {
   "cell_type": "code",
   "execution_count": 175,
   "metadata": {},
   "outputs": [
    {
     "ename": "ValueError",
     "evalue": "The truth value of a DataFrame is ambiguous. Use a.empty, a.bool(), a.item(), a.any() or a.all().",
     "output_type": "error",
     "traceback": [
      "\u001b[0;31m---------------------------------------------------------------------------\u001b[0m",
      "\u001b[0;31mValueError\u001b[0m                                Traceback (most recent call last)",
      "\u001b[0;32m<ipython-input-175-2530914bb0f4>\u001b[0m in \u001b[0;36m<module>\u001b[0;34m()\u001b[0m\n\u001b[1;32m      1\u001b[0m \u001b[0;32mfor\u001b[0m \u001b[0mi\u001b[0m \u001b[0;32min\u001b[0m \u001b[0mrange\u001b[0m\u001b[0;34m(\u001b[0m\u001b[0mlen\u001b[0m\u001b[0;34m(\u001b[0m\u001b[0mdf\u001b[0m\u001b[0;34m)\u001b[0m\u001b[0;34m)\u001b[0m\u001b[0;34m:\u001b[0m\u001b[0;34m\u001b[0m\u001b[0m\n\u001b[0;32m----> 2\u001b[0;31m     \u001b[0;32mif\u001b[0m \u001b[0mdf\u001b[0m\u001b[0;34m[\u001b[0m\u001b[0mdf\u001b[0m\u001b[0;34m.\u001b[0m\u001b[0mRegion\u001b[0m\u001b[0;34m==\u001b[0m\u001b[0;34m'Africa'\u001b[0m\u001b[0;34m]\u001b[0m\u001b[0;34m:\u001b[0m\u001b[0;34m\u001b[0m\u001b[0m\n\u001b[0m\u001b[1;32m      3\u001b[0m         \u001b[0mx2\u001b[0m\u001b[0;34m[\u001b[0m\u001b[0mi\u001b[0m\u001b[0;34m,\u001b[0m\u001b[0;36m0\u001b[0m\u001b[0;34m]\u001b[0m\u001b[0;34m=\u001b[0m\u001b[0;36m1\u001b[0m\u001b[0;34m\u001b[0m\u001b[0m\n",
      "\u001b[0;32m~/anaconda3/lib/python3.6/site-packages/pandas/core/generic.py\u001b[0m in \u001b[0;36m__nonzero__\u001b[0;34m(self)\u001b[0m\n\u001b[1;32m    953\u001b[0m         raise ValueError(\"The truth value of a {0} is ambiguous. \"\n\u001b[1;32m    954\u001b[0m                          \u001b[0;34m\"Use a.empty, a.bool(), a.item(), a.any() or a.all().\"\u001b[0m\u001b[0;34m\u001b[0m\u001b[0m\n\u001b[0;32m--> 955\u001b[0;31m                          .format(self.__class__.__name__))\n\u001b[0m\u001b[1;32m    956\u001b[0m \u001b[0;34m\u001b[0m\u001b[0m\n\u001b[1;32m    957\u001b[0m     \u001b[0m__bool__\u001b[0m \u001b[0;34m=\u001b[0m \u001b[0m__nonzero__\u001b[0m\u001b[0;34m\u001b[0m\u001b[0m\n",
      "\u001b[0;31mValueError\u001b[0m: The truth value of a DataFrame is ambiguous. Use a.empty, a.bool(), a.item(), a.any() or a.all()."
     ]
    }
   ],
   "source": [
    "for i in range(len(df)):\n",
    "    if df[df.Region=='Africa']: \n",
    "        x2[i,0]=1"
   ]
  },
  {
   "cell_type": "code",
   "execution_count": 170,
   "metadata": {},
   "outputs": [
    {
     "data": {
      "text/plain": [
       "range(0, 151)"
      ]
     },
     "execution_count": 170,
     "metadata": {},
     "output_type": "execute_result"
    }
   ],
   "source": [
    "range(len(df))"
   ]
  },
  {
   "cell_type": "code",
   "execution_count": 177,
   "metadata": {},
   "outputs": [
    {
     "data": {
      "text/plain": [
       "Country\n",
       "Norway                      Western Europe\n",
       "Denmark                     Western Europe\n",
       "Iceland                     Western Europe\n",
       "Switzerland                 Western Europe\n",
       "Finland                     Western Europe\n",
       "Netherlands                 Western Europe\n",
       "Canada                       North America\n",
       "New Zealand                   Asia-Pacific\n",
       "Sweden                      Western Europe\n",
       "Australia                     Asia-Pacific\n",
       "Israel                        Asia-Pacific\n",
       "Costa Rica                   Latin America\n",
       "Austria                     Western Europe\n",
       "United States                North America\n",
       "Ireland                     Western Europe\n",
       "Germany                     Western Europe\n",
       "Belgium                     Western Europe\n",
       "Luxembourg                  Western Europe\n",
       "United Kingdom              Western Europe\n",
       "Chile                        Latin America\n",
       "United Arab Emirates          Asia-Pacific\n",
       "Brazil                       Latin America\n",
       "Czech Republic              Western Europe\n",
       "Argentina                    Latin America\n",
       "Mexico                       Latin America\n",
       "Singapore                     Asia-Pacific\n",
       "Malta                       Western Europe\n",
       "Uruguay                      Latin America\n",
       "Guatemala                    Latin America\n",
       "Panama                       Latin America\n",
       "                                 ...      \n",
       "Georgia                       Asia-Pacific\n",
       "Congo (Kinshasa)                         1\n",
       "Mali                                     1\n",
       "Ivory Coast                              1\n",
       "Cambodia                      Asia-Pacific\n",
       "Sudan                                    1\n",
       "Ghana                                    1\n",
       "Ukraine                     Eastern Europe\n",
       "Uganda                                   1\n",
       "Burkina Faso                             1\n",
       "Niger                                    1\n",
       "Malawi                                   1\n",
       "Chad                                     1\n",
       "Zimbabwe                                 1\n",
       "Lesotho                                  1\n",
       "Angola                                   1\n",
       "Afghanistan                   Asia-Pacific\n",
       "Botswana                                 1\n",
       "Benin                                    1\n",
       "Madagascar                               1\n",
       "Haiti                        Latin America\n",
       "Yemen                         Asia-Pacific\n",
       "Liberia                                  1\n",
       "Guinea                                   1\n",
       "Togo                                     1\n",
       "Rwanda                                   1\n",
       "Syria                         Asia-Pacific\n",
       "Tanzania                                 1\n",
       "Burundi                                  1\n",
       "Central African Republic                 1\n",
       "Name: Region, Length: 151, dtype: object"
      ]
     },
     "execution_count": 177,
     "metadata": {},
     "output_type": "execute_result"
    }
   ],
   "source": [
    "df['Region']"
   ]
  },
  {
   "cell_type": "code",
   "execution_count": 176,
   "metadata": {},
   "outputs": [
    {
     "data": {
      "text/plain": [
       "array([[0, 0, 0, 0, 0, 0],\n",
       "       [0, 0, 0, 0, 0, 0],\n",
       "       [0, 0, 0, 0, 0, 0],\n",
       "       [0, 0, 0, 0, 0, 0],\n",
       "       [0, 0, 0, 0, 0, 0],\n",
       "       [0, 0, 0, 0, 0, 0],\n",
       "       [0, 0, 0, 0, 0, 0],\n",
       "       [0, 0, 0, 0, 0, 0],\n",
       "       [0, 0, 0, 0, 0, 0],\n",
       "       [0, 0, 0, 0, 0, 0],\n",
       "       [0, 0, 0, 0, 0, 0],\n",
       "       [0, 0, 0, 0, 0, 0],\n",
       "       [0, 0, 0, 0, 0, 0],\n",
       "       [0, 0, 0, 0, 0, 0],\n",
       "       [0, 0, 0, 0, 0, 0],\n",
       "       [0, 0, 0, 0, 0, 0],\n",
       "       [0, 0, 0, 0, 0, 0],\n",
       "       [0, 0, 0, 0, 0, 0],\n",
       "       [0, 0, 0, 0, 0, 0],\n",
       "       [0, 0, 0, 0, 0, 0],\n",
       "       [0, 0, 0, 0, 0, 0],\n",
       "       [0, 0, 0, 0, 0, 0],\n",
       "       [0, 0, 0, 0, 0, 0],\n",
       "       [0, 0, 0, 0, 0, 0],\n",
       "       [0, 0, 0, 0, 0, 0],\n",
       "       [0, 0, 0, 0, 0, 0],\n",
       "       [0, 0, 0, 0, 0, 0],\n",
       "       [0, 0, 0, 0, 0, 0],\n",
       "       [0, 0, 0, 0, 0, 0],\n",
       "       [0, 0, 0, 0, 0, 0],\n",
       "       [0, 0, 0, 0, 0, 0],\n",
       "       [0, 0, 0, 0, 0, 0],\n",
       "       [0, 0, 0, 0, 0, 0],\n",
       "       [0, 0, 0, 0, 0, 0],\n",
       "       [0, 0, 0, 0, 0, 0],\n",
       "       [0, 0, 0, 0, 0, 0],\n",
       "       [0, 0, 0, 0, 0, 0],\n",
       "       [0, 0, 0, 0, 0, 0],\n",
       "       [0, 0, 0, 0, 0, 0],\n",
       "       [0, 0, 0, 0, 0, 0],\n",
       "       [0, 0, 0, 0, 0, 0],\n",
       "       [0, 0, 0, 0, 0, 0],\n",
       "       [0, 0, 0, 0, 0, 0],\n",
       "       [0, 0, 0, 0, 0, 0],\n",
       "       [0, 0, 0, 0, 0, 0],\n",
       "       [0, 0, 0, 0, 0, 0],\n",
       "       [0, 0, 0, 0, 0, 0],\n",
       "       [0, 0, 0, 0, 0, 0],\n",
       "       [0, 0, 0, 0, 0, 0],\n",
       "       [0, 0, 0, 0, 0, 0],\n",
       "       [0, 0, 0, 0, 0, 0],\n",
       "       [0, 0, 0, 0, 0, 0],\n",
       "       [0, 0, 0, 0, 0, 0],\n",
       "       [0, 0, 0, 0, 0, 0],\n",
       "       [0, 0, 0, 0, 0, 0],\n",
       "       [0, 0, 0, 0, 0, 0],\n",
       "       [0, 0, 0, 0, 0, 0],\n",
       "       [0, 0, 0, 0, 0, 0],\n",
       "       [0, 0, 0, 0, 0, 0],\n",
       "       [0, 0, 0, 0, 0, 0],\n",
       "       [0, 0, 0, 0, 0, 0],\n",
       "       [0, 0, 0, 0, 0, 0],\n",
       "       [0, 0, 0, 0, 0, 0],\n",
       "       [0, 0, 0, 0, 0, 0],\n",
       "       [0, 0, 0, 0, 0, 0],\n",
       "       [0, 0, 0, 0, 0, 0],\n",
       "       [0, 0, 0, 0, 0, 0],\n",
       "       [0, 0, 0, 0, 0, 0],\n",
       "       [0, 0, 0, 0, 0, 0],\n",
       "       [0, 0, 0, 0, 0, 0],\n",
       "       [0, 0, 0, 0, 0, 0],\n",
       "       [0, 0, 0, 0, 0, 0],\n",
       "       [0, 0, 0, 0, 0, 0],\n",
       "       [0, 0, 0, 0, 0, 0],\n",
       "       [0, 0, 0, 0, 0, 0],\n",
       "       [0, 0, 0, 0, 0, 0],\n",
       "       [0, 0, 0, 0, 0, 0],\n",
       "       [0, 0, 0, 0, 0, 0],\n",
       "       [0, 0, 0, 0, 0, 0],\n",
       "       [0, 0, 0, 0, 0, 0],\n",
       "       [0, 0, 0, 0, 0, 0],\n",
       "       [0, 0, 0, 0, 0, 0],\n",
       "       [0, 0, 0, 0, 0, 0],\n",
       "       [0, 0, 0, 0, 0, 0],\n",
       "       [0, 0, 0, 0, 0, 0],\n",
       "       [0, 0, 0, 0, 0, 0],\n",
       "       [0, 0, 0, 0, 0, 0],\n",
       "       [0, 0, 0, 0, 0, 0],\n",
       "       [0, 0, 0, 0, 0, 0],\n",
       "       [0, 0, 0, 0, 0, 0],\n",
       "       [0, 0, 0, 0, 0, 0],\n",
       "       [0, 0, 0, 0, 0, 0],\n",
       "       [0, 0, 0, 0, 0, 0],\n",
       "       [0, 0, 0, 0, 0, 0],\n",
       "       [0, 0, 0, 0, 0, 0],\n",
       "       [0, 0, 0, 0, 0, 0],\n",
       "       [0, 0, 0, 0, 0, 0],\n",
       "       [0, 0, 0, 0, 0, 0],\n",
       "       [0, 0, 0, 0, 0, 0],\n",
       "       [0, 0, 0, 0, 0, 0],\n",
       "       [0, 0, 0, 0, 0, 0],\n",
       "       [0, 0, 0, 0, 0, 0],\n",
       "       [0, 0, 0, 0, 0, 0],\n",
       "       [0, 0, 0, 0, 0, 0],\n",
       "       [0, 0, 0, 0, 0, 0],\n",
       "       [0, 0, 0, 0, 0, 0],\n",
       "       [0, 0, 0, 0, 0, 0],\n",
       "       [0, 0, 0, 0, 0, 0],\n",
       "       [0, 0, 0, 0, 0, 0],\n",
       "       [0, 0, 0, 0, 0, 0],\n",
       "       [0, 0, 0, 0, 0, 0],\n",
       "       [0, 0, 0, 0, 0, 0],\n",
       "       [0, 0, 0, 0, 0, 0],\n",
       "       [0, 0, 0, 0, 0, 0],\n",
       "       [0, 0, 0, 0, 0, 0],\n",
       "       [0, 0, 0, 0, 0, 0],\n",
       "       [0, 0, 0, 0, 0, 0],\n",
       "       [0, 0, 0, 0, 0, 0],\n",
       "       [0, 0, 0, 0, 0, 0],\n",
       "       [0, 0, 0, 0, 0, 0],\n",
       "       [0, 0, 0, 0, 0, 0],\n",
       "       [0, 0, 0, 0, 0, 0],\n",
       "       [0, 0, 0, 0, 0, 0],\n",
       "       [0, 0, 0, 0, 0, 0],\n",
       "       [0, 0, 0, 0, 0, 0],\n",
       "       [0, 0, 0, 0, 0, 0],\n",
       "       [0, 0, 0, 0, 0, 0],\n",
       "       [0, 0, 0, 0, 0, 0],\n",
       "       [0, 0, 0, 0, 0, 0],\n",
       "       [0, 0, 0, 0, 0, 0],\n",
       "       [0, 0, 0, 0, 0, 0],\n",
       "       [0, 0, 0, 0, 0, 0],\n",
       "       [0, 0, 0, 0, 0, 0],\n",
       "       [0, 0, 0, 0, 0, 0],\n",
       "       [0, 0, 0, 0, 0, 0],\n",
       "       [0, 0, 0, 0, 0, 0],\n",
       "       [0, 0, 0, 0, 0, 0],\n",
       "       [0, 0, 0, 0, 0, 0],\n",
       "       [0, 0, 0, 0, 0, 0],\n",
       "       [0, 0, 0, 0, 0, 0],\n",
       "       [0, 0, 0, 0, 0, 0],\n",
       "       [0, 0, 0, 0, 0, 0],\n",
       "       [0, 0, 0, 0, 0, 0],\n",
       "       [0, 0, 0, 0, 0, 0],\n",
       "       [0, 0, 0, 0, 0, 0],\n",
       "       [0, 0, 0, 0, 0, 0],\n",
       "       [0, 0, 0, 0, 0, 0],\n",
       "       [0, 0, 0, 0, 0, 0],\n",
       "       [0, 0, 0, 0, 0, 0],\n",
       "       [0, 0, 0, 0, 0, 0],\n",
       "       [0, 0, 0, 0, 0, 0]])"
      ]
     },
     "execution_count": 176,
     "metadata": {},
     "output_type": "execute_result"
    }
   ],
   "source": [
    "x2"
   ]
  },
  {
   "cell_type": "code",
   "execution_count": null,
   "metadata": {
    "collapsed": true
   },
   "outputs": [],
   "source": []
  }
 ],
 "metadata": {
  "kernelspec": {
   "display_name": "Python 3",
   "language": "python",
   "name": "python3"
  },
  "language_info": {
   "codemirror_mode": {
    "name": "ipython",
    "version": 3
   },
   "file_extension": ".py",
   "mimetype": "text/x-python",
   "name": "python",
   "nbconvert_exporter": "python",
   "pygments_lexer": "ipython3",
   "version": "3.6.3"
  }
 },
 "nbformat": 4,
 "nbformat_minor": 2
}
